{
 "cells": [
  {
   "cell_type": "code",
   "execution_count": 5,
   "metadata": {},
   "outputs": [],
   "source": [
    "from PIL import Image\n",
    "import os, glob\n",
    "import numpy as np\n",
    "from sklearn import cross_validation\n",
    "\n",
    "classes = [\"monkey\",\"boar\",\"crow\"]\n",
    "num_classes = len(classes)\n",
    "image_size = 50\n",
    "\n",
    "# 画像の読み込み\n",
    "X=[]  \n",
    "Y=[] #ラベルデータ\n",
    "for index, classlabel in enumerate(classes):\n",
    "    photos_dir = \"./\" + classlabel\n",
    "    files = glob.glob(photos_dir+\"/*.jpg\")\n",
    "    for i, file in enumerate(files):\n",
    "        if i>=200: break\n",
    "        image = Image.open(file)\n",
    "        image = image.convert(\"RGB\")\n",
    "        image = image.resize((image_size,image_size))\n",
    "        data = np.asarray(image)\n",
    "\n",
    "        X.append(data)\n",
    "        Y.append(index)\n",
    "\n",
    "X=np.array(X)\n",
    "Y=np.array(Y)\n",
    "\n",
    "\n",
    "\n"
   ]
  },
  {
   "cell_type": "code",
   "execution_count": 16,
   "metadata": {},
   "outputs": [
    {
     "data": {
      "text/plain": [
       "0"
      ]
     },
     "execution_count": 16,
     "metadata": {},
     "output_type": "execute_result"
    }
   ],
   "source": [
    "X[0]\n",
    "len(X)\n",
    "Y[200]\n",
    "Y[400]\n",
    "Y[199]"
   ]
  }
 ],
 "metadata": {
  "kernelspec": {
   "display_name": "Python 3",
   "language": "python",
   "name": "python3"
  }
 },
 "nbformat": 4,
 "nbformat_minor": 2
}
